{
 "cells": [
  {
   "cell_type": "code",
   "execution_count": 59,
   "id": "67b513c8",
   "metadata": {},
   "outputs": [
    {
     "name": "stdout",
     "output_type": "stream",
     "text": [
      "Hệ số tương quan Pearson r = -0.217024\n"
     ]
    }
   ],
   "source": [
    "# BÀI 1: Hãy viết câu lệnh SQL để tính sự tương quan giữa A và B theo công thức \n",
    "import pandas as pd\n",
    "import numpy as np\n",
    "import sqlite3\n",
    "import math\n",
    "# Tạo DataFrame với giá trị ngẫu nhiên từ 1 đến 20, gồm 10 hàng\n",
    "df = pd.DataFrame({\n",
    "    'A': np.random.randint(1, 21, size=10),  \n",
    "    'B': np.random.randint(1, 21, size=10)\n",
    "})\n",
    "# Tạo kết nối SQLite \n",
    "conn = sqlite3.connect(\"chuong3\")\n",
    "df.to_sql(\"bai1\", conn, index=False, if_exists=\"replace\")\n",
    "\n",
    "# Truy vấn các giá trị cần tính\n",
    "query = \"\"\"\n",
    "SELECT\n",
    "    COUNT(*) as n,\n",
    "    SUM(A) as sum_a,\n",
    "    SUM(B) as sum_b,\n",
    "    SUM(A * B) as sum_ab,\n",
    "    SUM(A * A) as sum_a2,\n",
    "    SUM(B * B) as sum_b2\n",
    "FROM bai1;\n",
    "\"\"\"\n",
    "\n",
    "row = conn.execute(query).fetchone()\n",
    "n, sum_a, sum_b, sum_ab, sum_a2, sum_b2 = row\n",
    "\n",
    "# Áp dụng công thức Pearson\n",
    "numerator = n * sum_ab - sum_a * sum_b\n",
    "denominator = math.sqrt(n * sum_a2 - sum_a**2) * math.sqrt(n * sum_b2 - sum_b**2)\n",
    "r = numerator / denominator\n",
    "\n",
    "print(f\"Hệ số tương quan Pearson r = {r:4f}\")"
   ]
  },
  {
   "cell_type": "code",
   "execution_count": 60,
   "id": "3ba00b24",
   "metadata": {},
   "outputs": [
    {
     "name": "stdout",
     "output_type": "stream",
     "text": [
      "     Day    A    B  C\n",
      "0  Day 1  8.0  9.0  7\n",
      "1  Day 2  7.5  8.5  7\n",
      "2  Day 3  6.0  7.0  8\n",
      "3  Day 4  7.0  6.0  5\n"
     ]
    }
   ],
   "source": [
    "# BÀI 2 Một công ty oto đang kiểm tra 3 loại mẫu mới A, B và C trong 4 ngày\n",
    "#  và chấm điểm theo thang từ 1đến 10 điểm cho mỗi ngày với bảng sau. Liệu có sự khác biệt đáng kể giữa các mẫu dựa trên điểm số mà chúng nhận được trong 4 ngày thử nghiệm không?\n",
    "#  Kết quả thử nghiệm phụ thuộc vào ngày hay phụ thuộc vào mẫu xe? Hãy chuyển đổi dữ liệu sang dạng quan hệ và thực hiện kiểm tra χ2\n",
    "import pandas as pd\n",
    "from scipy.stats import chi2_contingency\n",
    "\n",
    "#1 Tạo DataFrame từ bảng\n",
    "data = pd.DataFrame({\n",
    "    'Day': ['Day 1', 'Day 2', 'Day 3', 'Day 4'],\n",
    "    'A': [8, 7.5, 6, 7],\n",
    "    'B': [9, 8.5, 7, 6],\n",
    "    'C': [7, 7, 8, 5]\n",
    "})\n",
    "# Kết nối SQLite \n",
    "conn = sqlite3.connect('chuong3')\n",
    "\n",
    "# Đẩy dữ liệu vào SQLite\n",
    "data.to_sql(\"bai2\", conn, index=False, if_exists=\"replace\")\n",
    "\n",
    "# Kiểm tra xem có dữ liệu chưa\n",
    "print(pd.read_sql(\"SELECT * FROM bai2 LIMIT 5;\", conn))\n",
    "query_long = \"\"\"\n",
    "SELECT Day, 'A' AS Model, A AS Score FROM bai2\n",
    "UNION ALL\n",
    "SELECT Day, 'B' AS Model, B AS Score FROM bai2\n",
    "UNION ALL\n",
    "SELECT Day, 'C' AS Model, C AS Score FROM bai2\n",
    "\"\"\"\n",
    "data_long = pd.read_sql(query_long, conn)\n"
   ]
  },
  {
   "cell_type": "code",
   "execution_count": 61,
   "id": "fddc0c0d",
   "metadata": {},
   "outputs": [
    {
     "name": "stdout",
     "output_type": "stream",
     "text": [
      " Kiểm định theo mẫu xe: p-value = 0.6472\n",
      "\n",
      "Bảng chéo (Contingency Table):\n",
      "Score_rounded  5  6  7  8  9\n",
      "Model                       \n",
      "A              0  1  1  2  0\n",
      "B              0  1  1  1  1\n",
      "C              1  0  2  1  0\n",
      "\n",
      "Kết quả kiểm định chi-squared:\n",
      "Chi-squared statistic = 6.0000\n",
      "P-value = 0.6472\n",
      "Bác bỏ ho => Không có sự khác biệt đáng kể giữa các mẫu xe\n"
     ]
    }
   ],
   "source": [
    "# 2 Tạo bảng chéo để kiểm định chi-squared\n",
    "# Làm tròn điểm để phân loại \n",
    "data_long['Score_rounded'] = data_long['Score'].round().astype(int)\n",
    "\n",
    "# Bảng chéo theo mẫu xe\n",
    "table_model = pd.crosstab(data_long['Model'], data_long['Score_rounded'])\n",
    "\n",
    "# Thực hiện kiểm định chi-squared\n",
    "chi2, p, _, _ = chi2_contingency(table_model)\n",
    "# In kết quả\n",
    "print(f\" Kiểm định theo mẫu xe: p-value = {p:.4f}\")\n",
    "print(\"\\nBảng chéo (Contingency Table):\")\n",
    "print(table_model)\n",
    "print(\"\\nKết quả kiểm định chi-squared:\")\n",
    "print(f\"Chi-squared statistic = {chi2:.4f}\")\n",
    "print(f\"P-value = {p:.4f}\")\n",
    "# Đánh giá\n",
    "if p >= 0.05:\n",
    "    print(\"Bác bỏ ho => Không có sự khác biệt đáng kể giữa các mẫu xe\")\n",
    "else:\n",
    "    print(\"Chấp nhận ho => Có sự khác biệt đáng kể giữa các mẫu xe dựa trên điểm số\")"
   ]
  },
  {
   "cell_type": "code",
   "execution_count": 62,
   "id": "5b5b035d",
   "metadata": {},
   "outputs": [
    {
     "name": "stdout",
     "output_type": "stream",
     "text": [
      "   departure_time formatted_time\n",
      "0              30          00:30\n",
      "1             830          08:30\n",
      "2             945          09:45\n",
      "3            1445          14:45\n",
      "4            2359          23:59\n"
     ]
    }
   ],
   "source": [
    "import sqlite3\n",
    "import pandas as pd\n",
    "\n",
    "# Tạo kết nối đến SQLite DB\n",
    "conn = sqlite3.connect('chuong3')\n",
    "\n",
    "# Xóa bảng nếu đã tồn tại (nên đặt trước khi tạo)\n",
    "conn.execute(\"DROP TABLE IF EXISTS flights\")\n",
    "\n",
    "# Tạo bảng flights\n",
    "conn.execute(\"CREATE TABLE flights (departure_time INTEGER)\")\n",
    "\n",
    "# Thêm dữ liệu mẫu\n",
    "conn.executemany(\"INSERT INTO flights (departure_time) VALUES (?)\", [\n",
    "    (30,), (830,), (945,), (1445,), (2359,)\n",
    "])\n",
    "\n",
    "# Truy vấn để định dạng lại thời gian\n",
    "query = \"\"\"\n",
    "SELECT \n",
    "  departure_time,\n",
    "  printf('%02d:%02d', departure_time / 100, departure_time % 100) AS formatted_time\n",
    "FROM flights;\n",
    "\"\"\"\n",
    "\n",
    "# Đọc kết quả bằng pandas\n",
    "df = pd.read_sql(query, conn)\n",
    "print(df)\n"
   ]
  },
  {
   "cell_type": "code",
   "execution_count": 64,
   "id": "30a3560c",
   "metadata": {},
   "outputs": [
    {
     "name": "stdout",
     "output_type": "stream",
     "text": [
      "-- Kết quả có cờ is_outlier --\n",
      "   value  is_outlier\n",
      "0      4       False\n",
      "1     11       False\n",
      "2      5       False\n",
      "3      6       False\n",
      "4      8       False\n",
      "5      7       False\n",
      "6      9       False\n",
      "7     80        True\n",
      "8     64        True\n"
     ]
    }
   ],
   "source": [
    "# BÀI 4 Viết truy vấn SQL để tìm các ngoại lệ bằng cách sử dụng MAD. Một quy tắc chung là xem xét các giá trị ngoại lệ lớn hơn 1,5 lần so với giá trị MAD, trong đó x là số độ lệch chuẩn mà ta coi là có ý nghĩa\n",
    "import pandas as pd\n",
    "import numpy as np\n",
    "import sqlite3\n",
    "# Ví dụ DataFrame\n",
    "data = pd.DataFrame({'value': [4,11,5,6,8,7,9,80,64]})  # có vài giá trị ngoại lệ\n",
    "\n",
    "\n",
    "# Tạo DB SQLite  và thêm dữ liệu\n",
    "conn = sqlite3.connect('chuong3')\n",
    "conn.execute(\"DROP TABLE IF EXISTS bai4\")\n",
    "data.to_sql('bai4', conn, index=False, if_exists='replace')\n",
    "\n",
    "# Lấy dữ liệu từ SQL để tính median & MAD trong Python\n",
    "df = pd.read_sql(\"SELECT value FROM bai4\", conn)\n",
    "\n",
    "# Bước 1: Tính median\n",
    "median = df['value'].median()\n",
    "\n",
    "# Bước 2: Tính MAD\n",
    "mad = (df['value'] - median).abs().median()\n",
    "\n",
    "# Bước 3: Tìm giá trị ngoại lệ (dùng lại SQLite để lọc)\n",
    "threshold = 1.5 * mad\n",
    "# Truy vấn lấy tất cả dữ liệu kèm cột is_outlier = True/False\n",
    "query_flag = f\"\"\"\n",
    "SELECT \n",
    "  value,\n",
    "  CASE \n",
    "    WHEN ABS(value - {median}) > {threshold} THEN 1\n",
    "    ELSE 0\n",
    "  END AS is_outlier\n",
    "FROM bai4\n",
    "\"\"\"\n",
    "result = pd.read_sql(query_flag, conn)\n",
    "result['is_outlier'] = result['is_outlier'].astype(bool)\n",
    "\n",
    "print(\"-- Kết quả có cờ is_outlier --\")\n",
    "print(result)\n",
    "\n",
    "conn.close()\n",
    "\n",
    "\n"
   ]
  },
  {
   "cell_type": "code",
   "execution_count": null,
   "id": "f36f97d6",
   "metadata": {},
   "outputs": [
    {
     "name": "stdout",
     "output_type": "stream",
     "text": [
      "Các cặp được cho là cùng một người (dựa trên last_name và weight):\n",
      "- Patient 1 và Patient 6\n"
     ]
    }
   ],
   "source": [
    "# BÀI 5 Hãy xác định liệu hai người trong bảng Patient(last_name, weight, height) có phải là một người hay không bằng cách sử dụng khoảng cách kết hợp Boolean trên “last_name” và “weight”\n",
    "import sqlite3\n",
    "import pandas as pd\n",
    "\n",
    "# Kết nối SQLite \n",
    "conn = sqlite3.connect('chuong3')\n",
    "conn.execute('DROP TABLE IF EXISTS Patient')\n",
    "\n",
    "# Tạo bảng Patient\n",
    "conn.execute('''\n",
    "CREATE TABLE Patient (\n",
    "    last_name TEXT,\n",
    "    weight REAL,\n",
    "    height REAL\n",
    ")\n",
    "''')\n",
    "\n",
    "# Thêm dữ liệu mẫu\n",
    "patients = [\n",
    "    ('Le', 50, 160),\n",
    "    ('Nguyen', 65, 171),\n",
    "    ('Tran', 60, 168),\n",
    "    ('Nguyen', 70, 172),\n",
    "    ('Mai', 59.9, 168),\n",
    "    ('Le', 50, 160)\n",
    "]\n",
    "conn.executemany('INSERT INTO Patient VALUES (?, ?, ?)', patients)\n",
    "\n",
    "# Truy vấn tìm các cặp có thể là cùng một người\n",
    "query = '''\n",
    "SELECT \n",
    "    A.rowid AS id1,\n",
    "    B.rowid AS id2\n",
    "FROM Patient A\n",
    "JOIN Patient B\n",
    "    ON A.rowid < B.rowid\n",
    "WHERE A.last_name = B.last_name AND ABS(A.weight - B.weight) <= 1\n",
    "'''\n",
    "\n",
    "# Đọc kết quả\n",
    "matches = conn.execute(query).fetchall()\n",
    "\n",
    "# In kết quả theo định dạng yêu cầu\n",
    "print(\"Các cặp được cho là cùng một người (dựa trên last_name và weight):\")\n",
    "for match in matches:\n",
    "    print(f\"- Patient {match[0]} và Patient {match[1]}\")"
   ]
  }
 ],
 "metadata": {
  "kernelspec": {
   "display_name": "base",
   "language": "python",
   "name": "python3"
  },
  "language_info": {
   "codemirror_mode": {
    "name": "ipython",
    "version": 3
   },
   "file_extension": ".py",
   "mimetype": "text/x-python",
   "name": "python",
   "nbconvert_exporter": "python",
   "pygments_lexer": "ipython3",
   "version": "3.12.3"
  }
 },
 "nbformat": 4,
 "nbformat_minor": 5
}
