{
 "cells": [
  {
   "cell_type": "code",
   "execution_count": 58,
   "id": "67b513c8",
   "metadata": {},
   "outputs": [
    {
     "name": "stdout",
     "output_type": "stream",
     "text": [
      "Hệ số tương quan Pearson giữa A và B là: 0.306190\n"
     ]
    }
   ],
   "source": [
    "# BÀI 1: Hãy viết câu lệnh SQL để tính sự tương quan giữa A và B theo công thức \n",
    "import pandas as pd\n",
    "import numpy as np\n",
    "# Tạo DataFrame với giá trị ngẫu nhiên từ 1 đến 20, gồm 10 hàng\n",
    "df = pd.DataFrame({\n",
    "    'A': np.random.randint(1, 21, size=10),  # random integers từ 1 đến 10\n",
    "    'B': np.random.randint(1, 21, size=10)\n",
    "})\n",
    "\n",
    "\n",
    "n = len(df)\n",
    "sum_ab = (df['A'] * df['B']).sum()\n",
    "sum_a = df['A'].sum()\n",
    "sum_b = df['B'].sum()\n",
    "sum_a2 = (df['A'] ** 2).sum()\n",
    "sum_b2 = (df['B'] ** 2).sum()\n",
    "\n",
    "# Áp dụng công thức Pearson\n",
    "numerator = n * sum_ab - sum_a * sum_b\n",
    "denominator = np.sqrt((n * sum_a2 - sum_a ** 2) * (n * sum_b2 - sum_b ** 2))\n",
    "\n",
    "correlation = numerator / denominator\n",
    "\n",
    "print(f\"Hệ số tương quan Pearson giữa A và B là: {correlation:4f}\")"
   ]
  },
  {
   "cell_type": "code",
   "execution_count": 59,
   "id": "3ba00b24",
   "metadata": {},
   "outputs": [
    {
     "name": "stdout",
     "output_type": "stream",
     "text": [
      "Dữ liệu dạng quan hệ:\n",
      "      Day Model  Score\n",
      "0   Day 1     A    8.0\n",
      "1   Day 2     A    7.5\n",
      "2   Day 3     A    6.0\n",
      "3   Day 4     A    7.0\n",
      "4   Day 1     B    9.0\n",
      "5   Day 2     B    8.5\n",
      "6   Day 3     B    7.0\n",
      "7   Day 4     B    6.0\n",
      "8   Day 1     C    7.0\n",
      "9   Day 2     C    7.0\n",
      "10  Day 3     C    8.0\n",
      "11  Day 4     C    5.0\n"
     ]
    }
   ],
   "source": [
    "# BÀI 2 Một công ty oto đang kiểm tra 3 loại mẫu mới A, B và C trong 4 ngày\n",
    "#  và chấm điểm theo thang từ 1đến 10 điểm cho mỗi ngày với bảng sau. Liệu có sự khác biệt đáng kể giữa các mẫu dựa trên điểm số mà chúng nhận được trong 4 ngày thử nghiệm không?\n",
    "#  Kết quả thử nghiệm phụ thuộc vào ngày hay phụ thuộc vào mẫu xe? Hãy chuyển đổi dữ liệu sang dạng quan hệ và thực hiện kiểm tra χ2\n",
    "import pandas as pd\n",
    "from scipy.stats import chi2_contingency\n",
    "\n",
    "#1 Tạo DataFrame từ bảng\n",
    "df = pd.DataFrame({\n",
    "    'Day': ['Day 1', 'Day 2', 'Day 3', 'Day 4'],\n",
    "    'A': [8, 7.5, 6, 7],\n",
    "    'B': [9, 8.5, 7, 6],\n",
    "    'C': [7, 7, 8, 5]\n",
    "})\n",
    "# Chuyển dữ liệu sang dạng quan hệ (long format)\n",
    "df_longformat = pd.melt(df, id_vars=['Day'], var_name='Model', value_name='Score')\n",
    "print(\"Dữ liệu dạng quan hệ:\")\n",
    "print(df_longformat)"
   ]
  },
  {
   "cell_type": "code",
   "execution_count": 60,
   "id": "fddc0c0d",
   "metadata": {},
   "outputs": [
    {
     "name": "stdout",
     "output_type": "stream",
     "text": [
      "\n",
      "Bảng chéo (Contingency Table):\n",
      "Rounded_Score  5.0  6.0  7.0  8.0  9.0\n",
      "Model                                 \n",
      "A                0    1    1    2    0\n",
      "B                0    1    1    1    1\n",
      "C                1    0    2    1    0\n",
      "\n",
      "Kết quả kiểm định chi-squared:\n",
      "Chi-squared statistic = 6.0000\n",
      "Degrees of freedom = 8\n",
      "P-value = 0.6472\n",
      "Bác bỏ ho => Không có sự khác biệt đáng kể giữa các mẫu xe\n"
     ]
    }
   ],
   "source": [
    "# 2 Tạo bảng chéo để kiểm định chi-squared\n",
    "# làm tròn điểm số để có dữ liệu rời rạc\n",
    "df_longformat['Rounded_Score'] = df_longformat['Score'].round()\n",
    "\n",
    "# Tạo bảng chéo giữa mẫu xe và điểm\n",
    "contingency_table = pd.crosstab(df_longformat['Model'], df_longformat['Rounded_Score'])\n",
    "\n",
    "# Thực hiện kiểm định chi-squared\n",
    "chi2, p, dof, expected = chi2_contingency(contingency_table)\n",
    "\n",
    "# In kết quả\n",
    "print(\"\\nBảng chéo (Contingency Table):\")\n",
    "print(contingency_table)\n",
    "print(\"\\nKết quả kiểm định chi-squared:\")\n",
    "print(f\"Chi-squared statistic = {chi2:.4f}\")\n",
    "print(f\"Degrees of freedom = {dof}\")\n",
    "print(f\"P-value = {p:.4f}\")\n",
    "# Đánh giá\n",
    "if p > 0.05:\n",
    "    print(\"Bác bỏ ho => Không có sự khác biệt đáng kể giữa các mẫu xe\")\n",
    "else:\n",
    "    print(\"Chấp nhận ho => Có sự khác biệt đáng kể giữa các mẫu xe dựa trên điểm số\")"
   ]
  },
  {
   "cell_type": "code",
   "execution_count": 61,
   "id": "5b5b035d",
   "metadata": {},
   "outputs": [
    {
     "name": "stdout",
     "output_type": "stream",
     "text": [
      "   departure_time departure_time_converted\n",
      "0             830                 08:30:00\n",
      "1            1445                 14:45:00\n",
      "2             120                 01:20:00\n",
      "3             115                 01:15:00\n",
      "4             235                 02:35:00\n"
     ]
    }
   ],
   "source": [
    "# BÀI 3 Bảng flights(departure_time,…) chứa các giá trị thời gian dưới dạng số nguyên (ví dụ: 830 cho 8:30 AM, 1445 cho 2:45 PM).\n",
    "#  Hãy chuyển đổi các giá trị này thành định dạng thời gian\n",
    "import pandas as pd\n",
    "from datetime import time\n",
    "\n",
    "# Ví dụ bảng dữ liệu flights\n",
    "data = {'departure_time': [830, 1445, 120,115,235]}\n",
    "df = pd.DataFrame(data)\n",
    "\n",
    "# Hàm chuyển đổi số nguyên thành dạng giờ:phút\n",
    "def convert_to_time(value):\n",
    "    if pd.isna(value):\n",
    "        return None\n",
    "    value = int(value)\n",
    "    hour = value // 100\n",
    "    minute = value % 100\n",
    "    if 0 <= hour <= 23 and 0 <= minute <= 59:\n",
    "        return time(hour, minute)\n",
    "    else:\n",
    "        return None  # loại trừ giá trị không hợp lệ\n",
    "\n",
    "# Áp dụng chuyển đổi\n",
    "df['departure_time_converted'] = df['departure_time'].apply(convert_to_time)\n",
    "# Kết quả\n",
    "print(df)"
   ]
  },
  {
   "cell_type": "code",
   "execution_count": 62,
   "id": "30a3560c",
   "metadata": {},
   "outputs": [
    {
     "name": "stdout",
     "output_type": "stream",
     "text": [
      "Giá trị trung vị (Median): 8.0\n",
      "MAD: 3.0\n",
      "\n",
      "Dữ liệu với đánh dấu ngoại lệ:\n",
      "   value  is_outlier\n",
      "0      4       False\n",
      "1     11       False\n",
      "2      5       False\n",
      "3      6       False\n",
      "4      8       False\n",
      "5      7       False\n",
      "6      9       False\n",
      "7     80        True\n",
      "8     64        True\n"
     ]
    }
   ],
   "source": [
    "# BÀI 4 Viết truy vấn SQL để tìm các ngoại lệ bằng cách sử dụng MAD. Một quy tắc chung là xem xét các giá trị ngoại lệ lớn hơn 1,5 lần so với giá trị MAD, trong đó x là số độ lệch chuẩn mà ta coi là có ý nghĩa\n",
    "import pandas as pd\n",
    "import numpy as np\n",
    "\n",
    "# Ví dụ DataFrame\n",
    "df = pd.DataFrame({\n",
    "    'value': [4,11,5,6,8,7,9,80,64]  # có vài giá trị ngoại lệ\n",
    "})\n",
    "\n",
    "# Tính Median và MAD\n",
    "median = df['value'].median()\n",
    "mad = np.median(np.abs(df['value'] - median))\n",
    "\n",
    "# Hệ số x = 1.5 \n",
    "x = 1.5\n",
    "\n",
    "# Đánh dấu các ngoại lệ\n",
    "df['is_outlier'] = np.abs(df['value'] - median) > x * mad\n",
    "\n",
    "# In kết quả\n",
    "print(\"Giá trị trung vị (Median):\", median)\n",
    "print(\"MAD:\", mad)\n",
    "print(\"\\nDữ liệu với đánh dấu ngoại lệ:\")\n",
    "print(df)\n"
   ]
  },
  {
   "cell_type": "code",
   "execution_count": 63,
   "id": "f36f97d6",
   "metadata": {},
   "outputs": [
    {
     "name": "stdout",
     "output_type": "stream",
     "text": [
      "Các cặp được cho là cùng một người (dựa trên last_name và weight):\n",
      "Patient 0 và Patient 3\n"
     ]
    }
   ],
   "source": [
    "# BÀI 5 Hãy xác định liệu hai người trong bảng Patient(last_name, weight, height) có phải là một người hay không bằng cách sử dụng khoảng cách kết hợp Boolean trên “last_name” và “weight”\n",
    "import pandas as pd\n",
    "\n",
    "# Ví dụ bảng Patient\n",
    "data = {\n",
    "    'last_name': ['Na', 'Nga', 'Tran', 'Na','Hoa','Mai'],\n",
    "    'weight': [45, 50, 35, 45,45,65],\n",
    "    'height': [170, 170, 170, 160,155,165]\n",
    "}\n",
    "\n",
    "df = pd.DataFrame(data)\n",
    "\n",
    "# So sánh tất cả các cặp (tự ghép với chính nó)\n",
    "from itertools import combinations\n",
    "\n",
    "# Danh sách để lưu kết quả\n",
    "matches = []\n",
    "\n",
    "# Duyệt từng cặp\n",
    "for i, j in combinations(df.index, 2):\n",
    "    row_i = df.loc[i]\n",
    "    row_j = df.loc[j]\n",
    "    \n",
    "    # So sánh Boolean\n",
    "    same_last_name = row_i['last_name'] == row_j['last_name']\n",
    "    same_weight = row_i['weight'] == row_j['weight']\n",
    "    \n",
    "    # Khoảng cách Boolean kết hợp\n",
    "    score = int(same_last_name) + int(same_weight)\n",
    "    \n",
    "    if score == 2:  # đủ điều kiện là cùng một người\n",
    "        matches.append((i, j))\n",
    "\n",
    "# In kết quả\n",
    "print(\"Các cặp được cho là cùng một người (dựa trên last_name và weight):\")\n",
    "for match in matches:\n",
    "    print(f\"Patient {match[0]} và Patient {match[1]}\")"
   ]
  }
 ],
 "metadata": {
  "kernelspec": {
   "display_name": "Python 3",
   "language": "python",
   "name": "python3"
  },
  "language_info": {
   "codemirror_mode": {
    "name": "ipython",
    "version": 3
   },
   "file_extension": ".py",
   "mimetype": "text/x-python",
   "name": "python",
   "nbconvert_exporter": "python",
   "pygments_lexer": "ipython3",
   "version": "3.9.13"
  }
 },
 "nbformat": 4,
 "nbformat_minor": 5
}
